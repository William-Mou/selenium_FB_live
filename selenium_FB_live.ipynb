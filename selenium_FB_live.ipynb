{
 "cells": [
  {
   "cell_type": "code",
   "execution_count": 2,
   "metadata": {
    "collapsed": false
   },
   "outputs": [
    {
     "name": "stdout",
     "output_type": "stream",
     "text": [
      "chrome_path1\n",
      "開啟帳號數量1\n",
      "直播URLhttps://www.facebook.com/candy.liao.14268/videos/1450283178428358/?hc_ref=ARRx6UXBA_U4YuEorEXW_pCSAqPdmgYcYb0DRg2oTJ_YcyNkrasFgjlY0TUqF8b_sHQ&pnref=story\n"
     ]
    }
   ],
   "source": [
    "from selenium import webdriver\n",
    "import time\n",
    "\n",
    "#環境設定\n",
    "chrome_path=input(\"chrome_path\")\n",
    "n=int(input(\"開啟帳號數量\"))\n",
    "url=input(\"直播URL\")\n",
    "\n",
    "#填入帳密表單!!\n",
    "email_list=[]\n",
    "pass_list=[]\n",
    "\n",
    "#瀏覽器自動化開啟\n",
    "web=[]\n",
    "for i in range(n):\n",
    "    web.append(\"\")\n",
    "    web[i] = webdriver.Chrome(chrome_path)\n",
    "    web[i].get(url)\n",
    "    web[i].set_window_position(0,0) #瀏覽器位置\n",
    "    web[i].set_window_size(700,700) #瀏覽器大小\n",
    "    email_input = web[i].find_element_by_id(\"email\")\n",
    "    email_input.send_keys(email_list[i])\n",
    "    pass_input = web[i].find_element_by_id(\"pass\")\n",
    "    pass_input.send_keys(pass_list[i])\n",
    "    web[i].find_element_by_id(\"loginbutton\").click()\n",
    "    web[i].get(url)    \n",
    "    \n",
    "time.sleep(5)\n",
    "#web.find_element_by_link_text('天氣預報').click() #點擊頁面上\"天氣預報\"的連結\n",
    "time.sleep(5)"
   ]
  },
  {
   "cell_type": "code",
   "execution_count": null,
   "metadata": {
    "collapsed": true
   },
   "outputs": [],
   "source": []
  }
 ],
 "metadata": {
  "kernelspec": {
   "display_name": "Python 3",
   "language": "python",
   "name": "python3"
  },
  "language_info": {
   "codemirror_mode": {
    "name": "ipython",
    "version": 3
   },
   "file_extension": ".py",
   "mimetype": "text/x-python",
   "name": "python",
   "nbconvert_exporter": "python",
   "pygments_lexer": "ipython3",
   "version": "3.6.0"
  }
 },
 "nbformat": 4,
 "nbformat_minor": 2
}
